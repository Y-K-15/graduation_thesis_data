{
 "cells": [
  {
   "cell_type": "markdown",
   "metadata": {},
   "source": [
    "# RDDする手順\n",
    "1. 位置情報付きの高さ規制のshpファイルを作成する。\n",
    "2. これを元に地価に制限高度を付与\n",
    "3. さらに地価に境界線からの距離を付与\n",
    "4. RDDする。"
   ]
  },
  {
   "cell_type": "markdown",
   "metadata": {},
   "source": []
  }
 ],
 "metadata": {
  "language_info": {
   "name": "python"
  }
 },
 "nbformat": 4,
 "nbformat_minor": 2
}
